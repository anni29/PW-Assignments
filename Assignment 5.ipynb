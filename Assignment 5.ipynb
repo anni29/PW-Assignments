{
 "cells": [
  {
   "cell_type": "code",
   "execution_count": null,
   "id": "df02ad8e-bf90-4612-8be6-7bbe99e22f5b",
   "metadata": {},
   "outputs": [],
   "source": [
    "                                 ASSIGNMENT 5 (PYTHON ASSIGNMENT) - (04.02.2023)"
   ]
  },
  {
   "cell_type": "code",
   "execution_count": null,
   "id": "b2017741-8e2c-484a-819e-93c7e4ca9c1a",
   "metadata": {},
   "outputs": [],
   "source": [
    "QUESTION 1: Create a python program to sort the given list of tuples based on integer value using a \n",
    "            lambda function.\n",
    "            [('Sachin Tendulkar', 34357), ('Ricky Ponting', 27483), ('Jack Kallis', 25534), ('Virat Kohli', 24936)].\n",
    "        \n",
    "ANSWER 1: Program:\n",
    "            List = [('Sachin Tendulkar', 34357), ('Ricky Ponting', 27483), ('Jack Kallis', 25534), ('Virat Kohli', 24936)]\n",
    "            List.sort(key = lambda x: x[1])\n",
    "            print(List)\n",
    "        \n",
    "                 OUTPUT:\n",
    "                     [('Virat Kohli', 24936), ('Jack Kallis', 25534), ('Ricky Ponting', 27483), ('Sachin Tendulkar', 34357)]\n",
    "                    "
   ]
  },
  {
   "cell_type": "code",
   "execution_count": null,
   "id": "746099c6-ae25-462f-bd85-63732c41cb7b",
   "metadata": {},
   "outputs": [],
   "source": [
    "QUESTION 2: Write a Python Program to find the squares of all the numbers in the given list of integers using \n",
    "            lambda and map functions.\n",
    "            [1, 2, 3, 4, 5, 6, 7, 8, 9, 10].\n",
    "    \n",
    "ANSWER 2: #Using lambda\n",
    "           Program:\n",
    "            List = [1, 2, 3, 4, 5, 6, 7, 8, 9, 10]\n",
    "            list(map(lambda x : x**2, List))\n",
    "            \n",
    "             OUTPUT:\n",
    "                [1, 4, 9, 16, 25, 36, 49, 64, 81, 100]\n",
    "                \n",
    "          #Using map\n",
    "            Program:\n",
    "                L = [1,2,3,4,5,6,7,8,9,10]\n",
    "                def sq(x):\n",
    "                    return x**2\n",
    "                list(map(sq,L))\n",
    "                         \n",
    "                 OUTPUT:\n",
    "                    [1, 4, 9, 16, 25, 36, 49, 64, 81, 100]\n",
    "                    "
   ]
  },
  {
   "cell_type": "code",
   "execution_count": null,
   "id": "c1dd65c0-4a71-44e0-afa2-d67c53f0e521",
   "metadata": {},
   "outputs": [],
   "source": [
    "QUESTION 3: Write a python program to convert the given list of integers into a tuple of strings. Use map and \n",
    "            lambda functions\n",
    "            Given String: [1, 2, 3, 4, 5, 6, 7, 8, 9, 10]\n",
    "            Expected output: ('1', '2', '3', '4', '5', '6', '7', '8', '9', '10').\n",
    "            \n",
    "ANSWER 3: Program:\n",
    "            A = [1, 2, 3, 4, 5, 6, 7, 8, 9, 10]\n",
    "            tuple(map(str, A))\n",
    "              \n",
    "              OUTPUT:\n",
    "                 ('1', '2', '3', '4', '5', '6', '7', '8', '9', '10')\n",
    "                "
   ]
  },
  {
   "cell_type": "code",
   "execution_count": null,
   "id": "5852a0f2-ce03-4fbc-a8b4-cbd5e9a9a6b7",
   "metadata": {},
   "outputs": [],
   "source": [
    "QUESTION 4: Write a python program using reduce function to compute the product of a list containing numbers \n",
    "            from 1 to 25 .\n",
    "\n",
    "ANSWER 4:  Program:\n",
    "            from functools import reduce\n",
    "            LIST = list(range(1,26))\n",
    "            reduce(lambda x, y : x * y, LIST)\n",
    "                \n",
    "              OUTPUT:\n",
    "                 15511210043330985984000000\n",
    "                    "
   ]
  },
  {
   "cell_type": "code",
   "execution_count": null,
   "id": "557234f7-a2e8-496e-95e4-8abb5946ac05",
   "metadata": {},
   "outputs": [],
   "source": [
    "QUESTION 5: Write a python program to filter the numbers in a given list that are divisible by 2 and 3 using the \n",
    "            filter function.\n",
    "            [2, 3, 6, 9, 27, 60, 90, 120, 55, 46].\n",
    "    \n",
    "ANSWER 5: Program:\n",
    "            List = [2, 3, 6, 9, 27, 60, 90, 120, 55, 46]\n",
    "            list(filter(lambda x : x % 2 == 0 and x % 3 == 0))\n",
    "             \n",
    "             OUTPUT:\n",
    "                [6, 60, 90, 120]"
   ]
  },
  {
   "cell_type": "code",
   "execution_count": null,
   "id": "d3f7fdb6-1d5d-4da7-b06e-97b6fdd25b96",
   "metadata": {},
   "outputs": [],
   "source": [
    "QUESTION 6: Write a python program to find palindromes in the given list of strings using lambda and filter \n",
    "            function.\n",
    "            ['python', 'php', 'aba', 'radar', 'level']\n",
    "        \n",
    "ANSWER 6: Program:\n",
    "            List = ['python', 'php', 'aba', 'radar', 'level']\n",
    "            list(filter(lambda x: (x == \"\".join(reversed(x))), List)) \n",
    "            \n",
    "                                   OR\n",
    "                \n",
    "            List = ['python', 'php', 'aba', 'radar', 'level']\n",
    "            result = list(filter(lambda x: (x == \"\".join(reversed(x))), List))\n",
    "            print(result)\n",
    "             \n",
    "                OUTPUT:\n",
    "                    ['php', 'aba', 'radar', 'level']\n",
    "                    "
   ]
  },
  {
   "cell_type": "code",
   "execution_count": null,
   "id": "01298163-5c9b-48a4-a745-e74130f67a8b",
   "metadata": {},
   "outputs": [],
   "source": [
    "                                ******************************************************"
   ]
  }
 ],
 "metadata": {
  "kernelspec": {
   "display_name": "Python 3 (ipykernel)",
   "language": "python",
   "name": "python3"
  },
  "language_info": {
   "codemirror_mode": {
    "name": "ipython",
    "version": 3
   },
   "file_extension": ".py",
   "mimetype": "text/x-python",
   "name": "python",
   "nbconvert_exporter": "python",
   "pygments_lexer": "ipython3",
   "version": "3.10.8"
  }
 },
 "nbformat": 4,
 "nbformat_minor": 5
}
