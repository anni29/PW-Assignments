{
 "cells": [
  {
   "cell_type": "code",
   "execution_count": null,
   "id": "c1ed1388-0a32-4141-bb4f-0831344cde00",
   "metadata": {},
   "outputs": [],
   "source": [
    "                                     ASSIGNMENT 7 (PYTHON ASSIGNMENT) - (06.02.2023)"
   ]
  },
  {
   "cell_type": "code",
   "execution_count": null,
   "id": "fd4f3592-6351-49c2-b1e7-f9158c1656d6",
   "metadata": {},
   "outputs": [],
   "source": [
    "QUESTION 1: You are writing code for a company. The requirement of the company is that you create a python \n",
    "            function that will check whether the password entered by the user is correct or not. The function should \n",
    "            take the password as input and return the string “Valid Password” if the entered password follows the \n",
    "            below-given password guidelines else it should return “Invalid Password”.\n",
    "    \n",
    "        NOTE ->  1. The Password should contain at least two uppercase letters and at least two lowercase letters.\n",
    "                 2. The Password should contain at least a number and three special characters.\n",
    "                 3. The length of the password should be 10 characters long.\n",
    "    \n",
    "ANSWER 1: PROGRAM:\n",
    "                \n",
    "                import re\n",
    "                password = input(\"Enter Your Password\")\n",
    "                flag = 0\n",
    "                while True:\n",
    "                    if (len(password)<=8):\n",
    "                        flag = -1\n",
    "                        break\n",
    "                    elif not re.search(\"[a-z]\", password):\n",
    "                        flag = -1\n",
    "                        break\n",
    "                    elif not re.search(\"[A-Z]\", password):\n",
    "                        flag = -1\n",
    "                        break\n",
    "                    elif not re.search(\"[0-9]\", password):\n",
    "                        flag = -1\n",
    "                        break\n",
    "                    elif not re.search(\"[_@$]\" , password):\n",
    "                        flag = -1\n",
    "                        break\n",
    "                    elif re.search(\"\\s\" , password):\n",
    "                        flag = -1\n",
    "                        break\n",
    "                    else:\n",
    "                        flag = 0\n",
    "                        print(\"Valid Password\")\n",
    "                        break\n",
    "\n",
    "                if flag == -1:\n",
    "                    print(\"Not a Valid Password \")\n",
    "    "
   ]
  },
  {
   "cell_type": "code",
   "execution_count": null,
   "id": "0da8d1ea-7d71-4dce-8f91-506a6984baa5",
   "metadata": {},
   "outputs": [],
   "source": [
    "QUESTION 2: Write a python program for encrypting a message sent to you by your friend. The logic of encryption \n",
    "            should be such that, for a the output should be z. For b, the output should be y. For c, the output should \n",
    "            be x respectively. Also, the whitespace should be replaced with a dollar sign. Keep the punctuation \n",
    "            marks unchanged.\n",
    "\n",
    "            Input Sentence: I want to become a Data Scientist.\n",
    "            Encrypt the above input sentence using the program you just created.\n",
    "            Note: Convert the given input sentence into lowercase before encrypting. The final output should be \n",
    "            lowercase.\n",
    "            \n",
    "ANSWER 2: PROGRAM: \n",
    "    \n",
    "            Input = input(\"Enter Your Sentence: \")\n",
    "            encrypt = Input.lower()\n",
    "\n",
    "            dict = {\"a\": \"z\", \"b\": \"y\",\n",
    "                    \"c\": \"x\", \" \": \"$\",\n",
    "                    \"!\": \"!\"}\n",
    "\n",
    "            num = encrypt[::1]\n",
    "            for i in dict:\n",
    "                num = num.replace(i, dict[i])\n",
    "\n",
    "            # f- strings which improves readability\n",
    "            print(f\"{num}\")\n",
    "            \n",
    "                OUTPUT:\n",
    "                    Enter Your Sentence:   I want to become a Data Scientist.\n",
    "                    $i$wznt$to$yexome$z$dztz$sxientist.\n",
    "            "
   ]
  },
  {
   "cell_type": "code",
   "execution_count": null,
   "id": "60150a4a-6db2-41e0-bfd2-b86ba093da15",
   "metadata": {},
   "outputs": [],
   "source": [
    "encrypt = \"I want to become a Data Scientist.\"\n",
    "dict = {\"a\": \"z\", \"b\": \"y\",\n",
    "        \"c\": \"x\", \" \": \"$\",\n",
    "        \"!\": \"!\"}\n",
    " \n",
    "# Reverse the string\n",
    "num = encrypt[::-1]\n",
    " \n",
    "# Replace vowels using loops\n",
    "for i in dict:\n",
    "    num = num.replace(i, dict[i])\n",
    " \n",
    "# f- strings which improves readability\n",
    "print(f\"{num}aca\")"
   ]
  },
  {
   "cell_type": "code",
   "execution_count": null,
   "id": "e86365ee-3756-4690-a636-b2ec75587ddb",
   "metadata": {},
   "outputs": [],
   "source": [
    "                                **********************************************************"
   ]
  }
 ],
 "metadata": {
  "kernelspec": {
   "display_name": "Python 3 (ipykernel)",
   "language": "python",
   "name": "python3"
  },
  "language_info": {
   "codemirror_mode": {
    "name": "ipython",
    "version": 3
   },
   "file_extension": ".py",
   "mimetype": "text/x-python",
   "name": "python",
   "nbconvert_exporter": "python",
   "pygments_lexer": "ipython3",
   "version": "3.10.8"
  }
 },
 "nbformat": 4,
 "nbformat_minor": 5
}
