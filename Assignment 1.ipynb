{
 "cells": [
  {
   "cell_type": "code",
   "execution_count": null,
   "id": "61caa4d6-37a8-473c-ad16-cca57513c9e9",
   "metadata": {},
   "outputs": [],
   "source": [
    "                                      ASSIGNMENT 1 (29.01.2023)"
   ]
  },
  {
   "cell_type": "code",
   "execution_count": null,
   "id": "c108ee27-14ca-4213-919d-ff632f8b56db",
   "metadata": {},
   "outputs": [],
   "source": [
    "QUESTION 1: Who developed Python Programming Language?\n",
    "\n",
    "ANSWER 1: Python was developed by Guido van Rossum, and first released on February 20, 1991."
   ]
  },
  {
   "cell_type": "code",
   "execution_count": null,
   "id": "d57fbeec-8840-4769-a02c-fa08d566a996",
   "metadata": {},
   "outputs": [],
   "source": [
    "QUESTION 2: Which type of Programming does Python support?\n",
    "\n",
    "ANSWER 2: Python is an interpreted programming language which supports\n",
    "          1. Object-Oriented\n",
    "          2. Structured \n",
    "          3. Functional Programming."
   ]
  },
  {
   "cell_type": "code",
   "execution_count": null,
   "id": "7163b5bd-9326-46f0-a75e-b004512c51e5",
   "metadata": {},
   "outputs": [],
   "source": [
    "QUESTION 3: Is Pyhton case sensitive when dealing with identifiers?\n",
    "\n",
    "ANSWER 3: Yes, Python is a case-sensitive language when dealing with identifier."
   ]
  },
  {
   "cell_type": "code",
   "execution_count": null,
   "id": "2dfee6dd-8ba8-4f87-9e42-cb17e4a99b8f",
   "metadata": {},
   "outputs": [],
   "source": [
    "QUESTION 4: What is the correct extention of the Python file?\n",
    "\n",
    "ANSWER 4: The extensions for Python files are - . py, . pyi, ."
   ]
  },
  {
   "cell_type": "code",
   "execution_count": null,
   "id": "22eeea81-9ed6-441a-a185-eb4553a25204",
   "metadata": {},
   "outputs": [],
   "source": [
    "QUESTION 5: Is Python code compiled or interpreted?\n",
    "\n",
    "ANSWER 5: Python is an interpreted language, which means \n",
    "          the source code of a Python program is converted into bytecode \n",
    "          that is then executed by the Python virtual machine."
   ]
  },
  {
   "cell_type": "code",
   "execution_count": null,
   "id": "93d1dede-ebbf-4f1a-8a00-947dd5f85e62",
   "metadata": {},
   "outputs": [],
   "source": [
    "QUESTION 6: Name a few blocks of code used to define in Python language?\n",
    "\n",
    "ANSWER 6: A block is a piece of Python program text that is executed as a unit. \n",
    "         The following are blocks: \n",
    "            1. A module \n",
    "            2. A function body \n",
    "            3. A class definition. \n",
    "        Each command typed interactively is a block."
   ]
  },
  {
   "cell_type": "code",
   "execution_count": null,
   "id": "27569290-1c1b-42ac-8b9e-d8bc72d35f9d",
   "metadata": {},
   "outputs": [],
   "source": [
    "QUESTION 7: State a character used to give single-line comments in Python?\n",
    "\n",
    "ANSWER 7: Hash character(#) is used to comment the line in the Python program."
   ]
  },
  {
   "cell_type": "code",
   "execution_count": null,
   "id": "ff233237-0397-44ce-9fc4-1159bdf09ec7",
   "metadata": {},
   "outputs": [],
   "source": [
    "QUESTION 8: Mention functions which can help us to find the version of Python that we are currently working on?\n",
    "\n",
    "ANSWER 8: Fucntions that can help us to find the version of Python that we are currently working on are:\n",
    "            1. Using sys. version method.\n",
    "            2. Using python_version() function.\n",
    "            3. Using Python -V command."
   ]
  },
  {
   "cell_type": "code",
   "execution_count": null,
   "id": "4fd6967f-9cb5-405d-8d89-7b46af14fea3",
   "metadata": {},
   "outputs": [],
   "source": [
    "QUESTION 9: Python supports the creation of anonymous functions at runtime, using a construct called _____\n",
    "\n",
    "ANSWER 9: lambda "
   ]
  },
  {
   "cell_type": "code",
   "execution_count": null,
   "id": "06ba6ea7-6595-4e0c-bbad-cf13b2bdb432",
   "metadata": {},
   "outputs": [],
   "source": [
    "QUESTION 10: What does pip stand for python?\n",
    "\n",
    "ANSWER 10: pip stands for \"preferred installer program\" in Python."
   ]
  },
  {
   "cell_type": "code",
   "execution_count": null,
   "id": "198cb63a-6026-4162-a0dc-0db041bbe1ef",
   "metadata": {},
   "outputs": [],
   "source": [
    "QUESTION 11: Mention a few built-in functions in Python?\n",
    "\n",
    "ANSWER 11: Few built-in Functions of Python are:\n",
    "            1. print( ) function.\n",
    "            2. type( ) function.\n",
    "            3. input( ) function.\n",
    "            4. abs( ) function.\n",
    "            5. pow( ) function.\n",
    "            6. dir( ) function.\n",
    "            7. sorted( ) function.\n",
    "            8. max( ) function."
   ]
  },
  {
   "cell_type": "code",
   "execution_count": null,
   "id": "041a9fad-46c4-458a-a30e-3a08e2648fbd",
   "metadata": {},
   "outputs": [],
   "source": [
    "QUESTION 12: What is the maximum possible length of an identifier in Python?\n",
    "    \n",
    "ANSWER 12: 79 characters."
   ]
  },
  {
   "cell_type": "code",
   "execution_count": null,
   "id": "6d65bd83-6b61-4769-bca2-184d7b5b5b8b",
   "metadata": {},
   "outputs": [],
   "source": [
    "QUESTION 13: What are the benefits of using Python?\n",
    "    \n",
    "ANSWER 13: Few benefits of using Python are:\n",
    "            1. Easy to learn and Easy to use\n",
    "            2. It has Massive Libraries\n",
    "            3. Open Source \n",
    "            4. Easily Portable\n",
    "            5. Improves Productivity\n",
    "            6. Easy to integrate with Other Programming Languages"
   ]
  },
  {
   "cell_type": "code",
   "execution_count": null,
   "id": "b82a78bf-0543-496b-b5f1-388b34342978",
   "metadata": {},
   "outputs": [],
   "source": [
    "QUESTION 14: How is memory managed in Python?\n",
    "\n",
    "ANSWER 14: Memory management in Python involves a private heap containing \n",
    "           all Python objects and data structures. \n",
    "           The management of this private heap is ensured internally by the Python memory manager."
   ]
  },
  {
   "cell_type": "code",
   "execution_count": null,
   "id": "a3f0425f-06ed-48b1-853b-3cb77c08abd1",
   "metadata": {},
   "outputs": [],
   "source": [
    "QUESTION 15: How to install Python Windows and set path variables?\n",
    "    \n",
    "ANSWER 15: The complete path of python.exe can be added by:\n",
    "\n",
    "           Step 1: Right-clicking This PC and going to Properties.\n",
    "           Step 2: Clicking on the Advanced system settings in the menu on the left.\n",
    "           Step 3: Clicking on the Environment Variables button o​n the bottom right.\n",
    "           Step 4: In the System variables section, selecting the Path variable and clicking on Edit. \n",
    "                   The next screen will show all the directories that are currently a part of the PATH variable.\n",
    "           Step 5: Clicking on New and entering Python’s install directory."
   ]
  },
  {
   "cell_type": "code",
   "execution_count": null,
   "id": "1e7e5c84-ce2e-4476-981b-2cece1106c13",
   "metadata": {},
   "outputs": [],
   "source": [
    "QUESTION 16: Is indentation required in Python?\n",
    "    \n",
    "ANSWER 16: Indentation is mandatory in python to define the blocks of statements. \n",
    "           It is preferred to use whitespaces instead of tabs to indent in python. \n",
    "           Python uses four spaces as default indentation spaces."
   ]
  },
  {
   "cell_type": "code",
   "execution_count": null,
   "id": "45d9bd88-0080-4086-b317-acc0d4e67553",
   "metadata": {},
   "outputs": [],
   "source": [
    "                      ***************************************************************"
   ]
  }
 ],
 "metadata": {
  "kernelspec": {
   "display_name": "Python 3 (ipykernel)",
   "language": "python",
   "name": "python3"
  },
  "language_info": {
   "codemirror_mode": {
    "name": "ipython",
    "version": 3
   },
   "file_extension": ".py",
   "mimetype": "text/x-python",
   "name": "python",
   "nbconvert_exporter": "python",
   "pygments_lexer": "ipython3",
   "version": "3.10.2"
  }
 },
 "nbformat": 4,
 "nbformat_minor": 5
}
