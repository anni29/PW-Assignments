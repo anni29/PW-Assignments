{
 "cells": [
  {
   "cell_type": "code",
   "execution_count": null,
   "id": "755512b7-c2e8-428e-84be-865f19d34897",
   "metadata": {},
   "outputs": [],
   "source": [
    "                                 ASSIGNMENT 3 (PYTHON ASSIGNMENT) - (02.02.2023)"
   ]
  },
  {
   "cell_type": "code",
   "execution_count": null,
   "id": "e3a1d48e-6568-4628-8eac-e58b08fcba50",
   "metadata": {},
   "outputs": [],
   "source": [
    "QUESTION 1: Explain with an example each when to use a for loop and a while loop.\n",
    "\n",
    "ANSWER 1:  ## For loop: \n",
    "                A for loop is a control flow statement that executes code repeatedly for a \n",
    "                particular number of iterations. In this control flow statement, the keyword used is for. \n",
    "                The for loop is used when the number of iterations is already known.\n",
    "\n",
    "                The for loop has two parts:\n",
    "                    1. Header\n",
    "                    2. Body\n",
    "\n",
    "                 * Syntax of for loop:\n",
    "                    sequence = [True, True] \n",
    "                    for iterator_var in sequence: \n",
    "                        statements(s) \n",
    "\n",
    "                 * Example of for loop:\n",
    "                    n = [1, 2, 3]  \n",
    "                    for i in n:  \n",
    "                        print(i)\n",
    "\n",
    "                 * Output:\n",
    "                    1\n",
    "                    2\n",
    "                    3\n",
    "                \n",
    "            ## While loop:\n",
    "                A loop that executes a single statement or a group of statements for the given true condition. \n",
    "                The keyword used to represent this loop is \"while\". A \"while\" loop is used when \n",
    "                the number of iterations is unknown. The statement repeats itself till the boolean value becomes false. \n",
    "                In a while loop, the condition is tested at the start, also known as the pre-test loop.\n",
    "\n",
    "                  * Syntax of while loop:\n",
    "                        expression = True \n",
    "                        while expression: \n",
    "                        statement(s) \n",
    "\n",
    "                  * Example of while loop:\n",
    "                        i = 1  \n",
    "                        while i < 6:  \n",
    "                            print(i)\n",
    "                            i += 1  \n",
    "\n",
    "                  * Output:\n",
    "                     1                  \n",
    "                     2\n",
    "                     3\n",
    "                     4\n",
    "                     5\n",
    "                        "
   ]
  },
  {
   "cell_type": "code",
   "execution_count": null,
   "id": "80f9302d-e29a-4d15-8ab6-cbada9bf063c",
   "metadata": {},
   "outputs": [],
   "source": [
    "QUESTION 2:  Write a python program to print the sum and product of the first 10 natural numbers using for \n",
    "                and while loop.\n",
    "    \n",
    "ANSWER 2: # using for loop\n",
    "        Program:\n",
    "            sum = 0\n",
    "            prod = 1\n",
    "            for i in range(1,11):\n",
    "                sum = sum + i\n",
    "                prod = prod * i\n",
    "            print(\"The sum and product of first 10 natural numbers is: \",sum, \" and\",prod, \" respectively.\")\n",
    "                \n",
    "                OUTPUT:\n",
    "                The sum and product of first 10 natural numbers is: 55 and 3628800 respectively.\n",
    "            \n",
    "            \n",
    "          #using while loop\n",
    "        Program:\n",
    "            sum=0\n",
    "            prod=1\n",
    "            i=1\n",
    "            while i<=10:\n",
    "                sum=sum+i\n",
    "                prod=prod*i\n",
    "                i=i+1\n",
    "            print(\"The sum and product of first 10 natural numbers is: \",sum, \" and\", prod, \" respectively.\")\n",
    "            \n",
    "            OUTPUT:\n",
    "                The sum and product of first 10 natural numbers is: 55 and 3628800 respectively.\n",
    "            "
   ]
  },
  {
   "cell_type": "code",
   "execution_count": null,
   "id": "3fe296f3-4af4-4e13-aec9-3de1ad3f7855",
   "metadata": {},
   "outputs": [],
   "source": [
    "QUESTION 3:  Create a python program to compute the electricity bill for a household.\n",
    "The per-unit charges in rupees are as follows: For the first 100 units, the user will be charged Rs. 4.5 per \n",
    "unit, for the next 100 units, the user will be charged Rs. 6 per unit, and for the next 100 units, the user will \n",
    "be charged Rs. 10 per unit, After 300 units and above the user will be charged Rs. 20 per unit.\n",
    "\n",
    "\n",
    "You are required to take the units of electricity consumed in a month from the user as input.\n",
    "\n",
    "\n",
    "Your program must pass this test case: when the unit of electricity consumed by the user in a month is \n",
    "310, the total electricity bill should be 2250 .\n",
    "\n",
    "ANSWER 3: Program:\n",
    "            Unit = int(input(\"Enter the electricity consumed: \"))\n",
    "            bill = int\n",
    "            if Unit <= 100:\n",
    "                bill = Unit * 4.5\n",
    "            elif Unit > 100 and Unit <= 200:\n",
    "                bill = Unit * 6\n",
    "            elif Unit > 200 and Unit <= 300:\n",
    "                bill = Unit * 10\n",
    "            elif Unit > 300:\n",
    "                bill = Unit * 20\n",
    "\n",
    "            print(\"Total Bill: Rs.\",bill)\n",
    "            \n",
    "            INPUT: \n",
    "                Enter the electricity consumed: 467\n",
    "            \n",
    "            OUTPUT:\n",
    "                Total Bill: Rs.9340\n",
    "            "
   ]
  },
  {
   "cell_type": "code",
   "execution_count": null,
   "id": "65cd24b6-ac30-4b31-9ec7-f3f4f122a532",
   "metadata": {},
   "outputs": [],
   "source": [
    "QUESTION 4: Create a list of numbers from 1 to 100. Use for loop and while loop to calculate the cube of each \n",
    "number and if the cube of that number is divisible by 4 or 5 then append that number in a list and print \n",
    "that list.\n",
    "\n",
    "ANSWER 4: Program:\n",
    "            l=[]\n",
    "            for i in range(1,101):\n",
    "                l.append(i)\n",
    "                cube=i*i*i\n",
    "                x=cube%100\n",
    "                if (cube%10)==0 or (cube%10)==5 or x%4==0:\n",
    "                    l.append(i)\n",
    "            print(l)\n",
    "            \n",
    "            OUTPUT:\n",
    "                [1, 2, 2, 3, 4, 4, 5, 5, 6, 6, 7, 8, 8, 9, 10, 10, 11, 12, 12, 13, 14, 14, \n",
    "\n",
    "                 15, 15, 16, 16, 17, 18, 18, 19, 20, 20, 21, 22, 22, 23, 24, 24, 25, 25,               \n",
    "\n",
    "                 26, 26, 27, 28, 28, 29, 30, 30, 31, 32, 32, 33, 34, 34, 35, 35, 36, 36, 37, \n",
    "\n",
    "                 38, 38, 39, 40, 40, 41, 42, 42, 43, 44, 44, 45, 45, 46, 46, 47, 48, 48, 49, \n",
    "\n",
    "                 50, 50, 51, 52, 52, 53, 54, 54, 55, 55, 56, 56, 57, 58, 58, 59, 60, 60, 61, "
   ]
  },
  {
   "cell_type": "code",
   "execution_count": null,
   "id": "e171eb81-b80f-4b6e-aea7-744e2ca19125",
   "metadata": {},
   "outputs": [],
   "source": [
    "                 62, 62, 63, 64, 64, 65, 65, 66, 66, 67, 68, 68, 69, 70, 70, 71, 72, 72, 73, "
   ]
  },
  {
   "cell_type": "code",
   "execution_count": null,
   "id": "c7da2741-cba2-4962-914b-7427df89809c",
   "metadata": {},
   "outputs": [],
   "source": [
    "                 74, 74, 75, 75, 76, 76, 77, 78, 78, 79, 80, 80, 81, 82, 82, 83, 84, 84, 85, 85,"
   ]
  },
  {
   "cell_type": "code",
   "execution_count": null,
   "id": "95b4124c-b354-4b25-aa4a-886d45af6f86",
   "metadata": {},
   "outputs": [],
   "source": [
    "                  86, 86, 87, 88, 88, 89, 90, 90, 91, 92, 92, 93, 94, 94, 95, 95, 96, 96, 97, 98, 98,"
   ]
  },
  {
   "cell_type": "code",
   "execution_count": null,
   "id": "16bcf4b0-4b7c-403f-bbdf-dc8db72472df",
   "metadata": {},
   "outputs": [],
   "source": [
    "                  99, 100, 100]"
   ]
  },
  {
   "cell_type": "code",
   "execution_count": null,
   "id": "ecfd0b89-8489-4763-beac-b3104bcf295a",
   "metadata": {},
   "outputs": [],
   "source": [
    "QUESTION 5: \n",
    "    \n",
    "ANSWER 5: Program:\n",
    "            string = input(\"Enter the String: \")\n",
    "            vowels = 0\n",
    "            for i in string:\n",
    "                if(i=='a' or i=='e' or i=='i' or i=='o' or i=='u' or i=='A' or i=='E' or i=='I' or i=='O' or i=='U'):\n",
    "                    vowels+=1\n",
    "            if vowels == 0:\n",
    "                print('No vowels found')\n",
    "            else:\n",
    "                print('Total vowels are :' + str(vowels)\n",
    "                      \n",
    "          INPUT:\n",
    "             I want to become a data scientist\n",
    "                      \n",
    "          OUTPUT:\n",
    "             12\n",
    "                      "
   ]
  },
  {
   "cell_type": "code",
   "execution_count": null,
   "id": "7e5fa783-4542-4dfa-821c-70dd63eb7fd1",
   "metadata": {},
   "outputs": [],
   "source": [
    "                                        ******************************************"
   ]
  }
 ],
 "metadata": {
  "kernelspec": {
   "display_name": "Python 3 (ipykernel)",
   "language": "python",
   "name": "python3"
  },
  "language_info": {
   "codemirror_mode": {
    "name": "ipython",
    "version": 3
   },
   "file_extension": ".py",
   "mimetype": "text/x-python",
   "name": "python",
   "nbconvert_exporter": "python",
   "pygments_lexer": "ipython3",
   "version": "3.10.8"
  }
 },
 "nbformat": 4,
 "nbformat_minor": 5
}
